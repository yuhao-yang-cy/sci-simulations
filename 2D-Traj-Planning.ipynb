{
 "cells": [
  {
   "cell_type": "code",
   "execution_count": 1,
   "metadata": {},
   "outputs": [],
   "source": [
    "import numpy as np\n",
    "\n",
    "# define waypoints\n",
    "# waypoint given as [t, y, z]\n",
    "# the quadrotor need find itself at coordinates (y, z) at time t\n",
    "\n",
    "wp = [[0, 0, 0], [1, 1, 2], [2, 3, 3], [3, 5, 6], [5, 8, 4], [7, 10, 2], [9, 12, 5]]\n",
    "\n",
    "# number of piecewise trajectories between the waypoints\n",
    "n = len(wp) - 1"
   ]
  },
  {
   "cell_type": "code",
   "execution_count": 2,
   "metadata": {},
   "outputs": [],
   "source": [
    "# initialise a 6n * 6n coefficient matrix and a 6n-dimensional vector\n",
    "coeffs = []\n",
    "ysol = []\n",
    "zsol = []"
   ]
  },
  {
   "cell_type": "code",
   "execution_count": 3,
   "metadata": {},
   "outputs": [],
   "source": [
    "# conditions that must be satisfied if r(t) match at each waypoint\n",
    "\n",
    "for i in range(n):\n",
    "    # initial value for each piecewise polynomial\n",
    "    result = [0] * 6 * i\n",
    "    temp = [wp[i][0]**5, wp[i][0]**4, wp[i][0]**3, wp[i][0]**2, wp[i][0], 1]\n",
    "    result += temp\n",
    "    result += [0] * 6 * (n-i-1)\n",
    "    coeffs.append(result)\n",
    "    ysol.append(wp[i][1])\n",
    "    zsol.append(wp[i][2])\n",
    "    \n",
    "    # final value for each piecewise polynomial\n",
    "    result = [0] * 6 * i\n",
    "    temp = [wp[i+1][0]**5, wp[i+1][0]**4, wp[i+1][0]**3, wp[i+1][0]**2, wp[i+1][0], 1]\n",
    "    result += temp\n",
    "    result += [0] * 6 * (n-i-1)\n",
    "    coeffs.append(result)\n",
    "    ysol.append(wp[i+1][1])\n",
    "    zsol.append(wp[i+1][2])"
   ]
  },
  {
   "cell_type": "code",
   "execution_count": 4,
   "metadata": {},
   "outputs": [],
   "source": [
    "# conditions that must be satisfied if initial speed is zero\n",
    "result = []\n",
    "temp = [5 * wp[0][0]**4, 4 * wp[0][0]**3, 3 * wp[0][0]**2, 2 * wp[0][0], 1, 0]\n",
    "result += temp\n",
    "result += [0] * 6 * (n-1)\n",
    "coeffs.append(result)\n",
    "ysol.append(0)\n",
    "zsol.append(0)\n",
    "\n",
    "# conditions that must be satisfied if final speed is zero\n",
    "result = [0] * 6 * (n-1)\n",
    "temp = [5 * wp[n][0]**4, 4 * wp[n][0]**3, 3 * wp[n][0]**2, 2 * wp[n][0], 1, 0]\n",
    "result += temp\n",
    "coeffs.append(result)\n",
    "ysol.append(0)\n",
    "zsol.append(0)\n",
    "\n",
    "# conditions that must be satisfied if initial acceleration is zero\n",
    "result = []\n",
    "temp = [20 * wp[0][0]**3, 12 * wp[0][0]**2, 6 * wp[0][0], 2, 0, 0]\n",
    "result += temp\n",
    "result += [0] * 6 * (n-1)\n",
    "coeffs.append(result)\n",
    "ysol.append(0)\n",
    "zsol.append(0)\n",
    "\n",
    "# conditions that must be satisfied if final acceleration is zero\n",
    "result = [0] * 6 * (n-1)\n",
    "temp = [20 * wp[n][0]**3, 12 * wp[n][0]**2, 6 * wp[n][0], 2, 0, 0]\n",
    "result += temp\n",
    "coeffs.append(result)\n",
    "ysol.append(0)\n",
    "zsol.append(0)"
   ]
  },
  {
   "cell_type": "code",
   "execution_count": 5,
   "metadata": {},
   "outputs": [],
   "source": [
    "# conditions that must be satisfied if velocity is continuous at each waypoint\n",
    "for i in range(n-1):\n",
    "    result = [0] * 6 * i\n",
    "    temp1 = [5 * wp[i+1][0]**4, 4 * wp[i+1][0]**3, 3 * wp[i+1][0]**2, 2 * wp[i+1][0], 1, 0]\n",
    "    temp2 = [-5 * wp[i+1][0]**4, -4 * wp[i+1][0]**3, -3 * wp[i+1][0]**2, -2 * wp[i+1][0], -1, 0]\n",
    "    result += temp1 + temp2\n",
    "    result += [0] * 6 * (n-i-2)\n",
    "    coeffs.append(result)\n",
    "    ysol.append(0)\n",
    "    zsol.append(0)"
   ]
  },
  {
   "cell_type": "code",
   "execution_count": 6,
   "metadata": {},
   "outputs": [],
   "source": [
    "# conditions that must be satisfied if acceleration is continuous at each waypoint\n",
    "for i in range(n-1):\n",
    "    result = [0] * 6 * i\n",
    "    temp1 = [20 * wp[i+1][0]**3, 12 * wp[i+1][0]**2, 6 * wp[i+1][0], 2, 0, 0]\n",
    "    temp2 = [-20 * wp[i+1][0]**3, -12 * wp[i+1][0]**2, -6 * wp[i+1][0], -2, 0, 0]\n",
    "    result += temp1 + temp2\n",
    "    result += [0] * 6 * (n-i-2)\n",
    "    coeffs.append(result)\n",
    "    ysol.append(0)\n",
    "    zsol.append(0)"
   ]
  },
  {
   "cell_type": "code",
   "execution_count": 7,
   "metadata": {},
   "outputs": [],
   "source": [
    "# conditions that must be satisfied if third and fourth derivative of r(t) are also continuous\n",
    "for i in range(n-1):\n",
    "    result = [0] * 6 * i\n",
    "    temp1 = [60 * wp[i+1][0]**2, 24 * wp[i+1][0], 6, 0, 0, 0]\n",
    "    temp2 = [-60 * wp[i+1][0]**2, -24 * wp[i+1][0], -6, 0, 0, 0]\n",
    "    result += temp1 + temp2\n",
    "    result += [0] * 6 * (n-i-2)\n",
    "    coeffs.append(result)\n",
    "    ysol.append(0)\n",
    "    zsol.append(0)\n",
    "    \n",
    "for i in range(n-1):\n",
    "    result = [0] * 6 * i\n",
    "    temp1 = [120 * wp[i+1][0], 24, 0, 0, 0, 0]\n",
    "    temp2 = [-120 * wp[i+1][0], -24, 0, 0, 0, 0]\n",
    "    result += temp1 + temp2\n",
    "    result += [0] * 6 * (n-i-2)\n",
    "    coeffs.append(result)\n",
    "    ysol.append(0)\n",
    "    zsol.append(0)"
   ]
  },
  {
   "cell_type": "code",
   "execution_count": 8,
   "metadata": {},
   "outputs": [],
   "source": [
    "M = np.array(coeffs)\n",
    "Y = np.array(ysol)\n",
    "Z = np.array(zsol)"
   ]
  },
  {
   "cell_type": "code",
   "execution_count": 9,
   "metadata": {},
   "outputs": [],
   "source": [
    "c_y = np.matmul( np.linalg.inv(M), np.transpose(Y))\n",
    "c_z = np.matmul( np.linalg.inv(M), np.transpose(Z))"
   ]
  },
  {
   "cell_type": "code",
   "execution_count": 10,
   "metadata": {},
   "outputs": [],
   "source": [
    "def traj_des(t):\n",
    "    for i in range(n):\n",
    "        if t >= wp[i][0]:\n",
    "            y = c_y[6*i] * t**5 + c_y[6*i + 1] * t**4 + c_y[6*i + 2] * t**3 + c_y[6*i + 3] * t**2 + c_y[6*i + 4] * t + c_y[6*i + 5]\n",
    "            y_dot = 5 * c_y[6*i] * t**4 + 4 * c_y[6*i + 1] * t**3 + 3 * c_y[6*i + 2] * t**2 + 2 * c_y[6*i + 3] * t + c_y[6*i + 4]\n",
    "            y_dot_dot = 20 * c_y[6*i] * t**3 + 12 * c_y[6*i + 1] * t**2 + 6 * c_y[6*i + 2] * t + 2 * c_y[6*i + 3]\n",
    "            z = c_z[6*i] * t**5 + c_z[6*i + 1] * t**4 + c_z[6*i + 2] * t**3 + c_z[6*i + 3] * t**2 + c_z[6*i + 4] * t + c_z[6*i + 5]\n",
    "            z_dot = 5 * c_z[6*i] * t**4 + 4 * c_z[6*i + 1] * t**3 + 3 * c_z[6*i + 2] * t**2 + 2 * c_z[6*i + 3] * t + c_z[6*i + 4]\n",
    "            z_dot_dot = 20 * c_z[6*i] * t**3 + 12 * c_z[6*i + 1] * t**2 + 6 * c_z[6*i + 2] * t + 2 * c_z[6*i + 3]\n",
    "    return [[y, y_dot, y_dot_dot], [z, z_dot, z_dot_dot]]"
   ]
  },
  {
   "cell_type": "code",
   "execution_count": 11,
   "metadata": {},
   "outputs": [
    {
     "data": {
      "text/plain": [
       "[[8.000000000001819, 0.883911566829596, -0.48893272911675467],\n",
       " [4.000000000000483, -3.564849480924636, 0.7479904599874629]]"
      ]
     },
     "execution_count": 11,
     "metadata": {},
     "output_type": "execute_result"
    }
   ],
   "source": [
    "traj_des(5)"
   ]
  },
  {
   "cell_type": "code",
   "execution_count": 12,
   "metadata": {},
   "outputs": [
    {
     "data": {
      "image/png": "[encoded data removed]",
      "text/plain": [
       "<Figure size 432x288 with 1 Axes>"
      ]
     },
     "metadata": {
      "needs_background": "light"
     },
     "output_type": "display_data"
    }
   ],
   "source": [
    "import matplotlib.pyplot as plt\n",
    "\n",
    "# define constant parameters\n",
    "t_step = 0.01\n",
    "n_iter = 900\n",
    "\n",
    "# setting up the arrays to store desired trajectory\n",
    "y_des, y_dot_des, y_dotdot_des = [0] * n_iter, [0] * n_iter, [0] * n_iter\n",
    "z_des, z_dot_des, z_dotdot_des = [0] * n_iter, [0] * n_iter, [0] * n_iter\n",
    "\n",
    "# compute coordinates of the desired trajectory\n",
    "for i in range(n_iter):\n",
    "    t = i * t_step\n",
    "    y_des[i], y_dot_des[i], y_dotdot_des[i] = traj_des(t)[0]\n",
    "    z_des[i], z_dot_des[i], z_dotdot_des[i] = traj_des(t)[1]\n",
    "\n",
    "# extract coordinates of waypoints\n",
    "Y_wp = []\n",
    "Z_wp = []\n",
    "for i in range(len(wp)):\n",
    "    Y_wp.append(wp[i][1])\n",
    "    Z_wp.append(wp[i][2])\n",
    "\n",
    "fig, ax = plt.subplots()\n",
    "line = ax.plot(y_des, z_des, color='red')\n",
    "plt.scatter(Y_wp, Z_wp)\n",
    "plt.ylabel('Horizontal Distance')\n",
    "plt.xlabel('Height')\n",
    "plt.show()"
   ]
  },
  {
   "cell_type": "code",
   "execution_count": 13,
   "metadata": {},
   "outputs": [],
   "source": [
    "# define physical constants\n",
    "mass = 0.2\n",
    "Ixx = 0.008\n",
    "g = 9.81\n",
    "\n",
    "# define initial state\n",
    "y0, y_dot0, y_dotdot0 = 0, 0, 0\n",
    "z0, z_dot0, z_dotdot0 = 0, 0, 0\n",
    "\n",
    "# define PD control parameters\n",
    "Kp_y = 15\n",
    "Kd_y = 3\n",
    "Kp_z = 15\n",
    "Kd_z = 3\n",
    "Kp_phi = 200\n",
    "Kd_phi = 20"
   ]
  },
  {
   "cell_type": "code",
   "execution_count": 14,
   "metadata": {},
   "outputs": [],
   "source": [
    "# setting up the initial values for actual trajectory\n",
    "y, y_dot, y_dotdot = [0] * n_iter, [0] * n_iter, [0] * n_iter\n",
    "z, z_dot, z_dotdot = [0] * n_iter, [0] * n_iter, [0] * n_iter\n",
    "phi, phi_dot, phi_dotdot = [0] * n_iter, [0] * n_iter, [0] * n_iter\n",
    "phi_des, phi_des_dot = [0] * n_iter, [0] * n_iter\n",
    "F = [0] * n_iter\n",
    "tau = [0] * n_iter\n",
    "\n",
    "t = np.arange(0.0, n_iter*t_step, t_step)\n",
    "\n",
    "y[0], y_dot[0], y_dotdot[0] = y0, y_dot0, y_dotdot0\n",
    "z[0], z_dot[0], z_dotdot[0] = z0, z_dot0, z_dotdot0\n",
    "F[0] = mass * g"
   ]
  },
  {
   "cell_type": "code",
   "execution_count": 17,
   "metadata": {},
   "outputs": [
    {
     "data": {
      "image/png": "[encoded data removed]",
      "text/plain": [
       "<Figure size 432x288 with 1 Axes>"
      ]
     },
     "metadata": {
      "needs_background": "light"
     },
     "output_type": "display_data"
    }
   ],
   "source": [
    "for i in range(1, n_iter):\n",
    "    # equations of motion for quadrotor in y, z and phi\n",
    "    y_dotdot[i] = -F[i-1]/mass * np.sin(phi[i-1])\n",
    "    z_dotdot[i] = F[i-1]/mass * np.cos(phi[i-1]) - g\n",
    "    phi_dotdot[i] = tau[i-1] / Ixx\n",
    "    \n",
    "    # estimate actual trajectory using difference method\n",
    "    y[i] = y[i-1] + y_dot[i-1] * t_step\n",
    "    y_dot[i] = y_dot[i-1] + y_dotdot[i-1] * t_step\n",
    "    z[i] = z[i-1] + z_dot[i-1] * t_step\n",
    "    z_dot[i] = z_dot[i-1] + z_dotdot[i-1] * t_step\n",
    "    phi[i] = phi[i-1] + phi_dot[i-1] * t_step\n",
    "    phi_dot[i] = phi_dot[i-1] + phi_dotdot[i-1] * t_step\n",
    "    \n",
    "    # compute the required output from PD controller\n",
    "    ydotdot_c = y_dotdot_des[i] + Kd_y * (y_dot_des[i] - y_dot[i]) + Kp_y * (y_des[i] - y[i])\n",
    "    zdotdot_c = z_dotdot_des[i] + Kd_z * (z_dot_des[i] - z_dot[i]) + Kp_z * (z_des[i] - z[i])\n",
    "    F[i] = mass * np.sqrt(ydotdot_c ** 2 + (g + zdotdot_c) ** 2)\n",
    "    phi_des[i] = np.arcsin(- mass * ydotdot_c / F[i])\n",
    "    phi_des_dot[i] = (phi_des[i] - phi_des[i-1])/t_step\n",
    "    phi_des_dotdot = (phi_des_dot[i] - phi_des_dot[i-1])/t_step\n",
    "    tau[i] = Ixx * (phi_des_dotdot + Kd_phi * (phi_des_dot[i] - phi_dot[i]) + Kp_phi * (phi_des[i] - phi[i]))\n",
    "\n",
    "fig, ax = plt.subplots()\n",
    "plt.scatter(Y_wp, Z_wp, color='green', label='Waypoints')\n",
    "line1 = ax.plot(y_des, z_des, label='Planned Trajectory', color='blue', linewidth=5, alpha=0.2)\n",
    "line2 = ax.plot(y, z, label='Actual Trajectory', color='red', linewidth=1)\n",
    "#line3 = ax.plot(t, z, label='z(t)')\n",
    "#line4 = ax.plot(t, z_des, label='z_des(t)')\n",
    "\n",
    "ax.legend()\n",
    "plt.ylabel('Vertical Height (metres)')\n",
    "plt.xlabel('Horizontal Distance (metres)')\n",
    "plt.show()"
   ]
  },
  {
   "cell_type": "code",
   "execution_count": null,
   "metadata": {},
   "outputs": [],
   "source": []
  }
 ],
 "metadata": {
  "kernelspec": {
   "display_name": "Python 3",
   "language": "python",
   "name": "python3"
  },
  "language_info": {
   "codemirror_mode": {
    "name": "ipython",
    "version": 3
   },
   "file_extension": ".py",
   "mimetype": "text/x-python",
   "name": "python",
   "nbconvert_exporter": "python",
   "pygments_lexer": "ipython3",
   "version": "3.8.3"
  }
 },
 "nbformat": 4,
 "nbformat_minor": 5
}
