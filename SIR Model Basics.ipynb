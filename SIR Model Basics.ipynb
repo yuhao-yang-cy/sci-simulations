{
 "cells": [
  {
   "cell_type": "markdown",
   "id": "9fd7c6ad",
   "metadata": {},
   "source": [
    "## What is the SIR Model?\n",
    "\n",
    "We introduce **the SIR model**, one of the most basic mathematical models of infectious disease epidemics (epidemics means a particular disease spreading to a large number of cases).\n",
    "\n",
    "The SIR model was first proposed by W. O. Kermack and A. G. McKendrick in 1927, and later developed into one of the most successful models for infectious diseases, based on which health institutions have established various upgraded models for a wide variety of epidemics. The results predicted by the models provide important reference in the decision-making process of epidemic prevention and control."
   ]
  },
  {
   "cell_type": "markdown",
   "id": "99d12582",
   "metadata": {},
   "source": [
    "## The SIR Model: Introduction\n",
    "\n",
    "In the SIR model, the population is divided into three groups:\n",
    "\n",
    "- **S**usceptible: those who have not yet been infected\n",
    "\n",
    "- **I**nfective: those who have been infected and may infect the susceptible\n",
    "\n",
    "- **R**ecoverd: those who have recovered from the disease and are no longer affected by the disease for whatever reason\n",
    "\n",
    "The size of the population in each group are denoted by $S$, $I$ and $R$. We will build the mathematical model that quantifies the variation with time of these numbers.\n",
    "\n",
    "When a random infective person comes in contact with a random susceptible person, there is a possiblility that the disease will spread. In the model, we assume that each susceptible person has the same probability of coming into contact with any other infective object and also an equal probability of getting infected.\n",
    "\n",
    "Let's define the **infection rate** $\\beta$ as the probability that a random infective person infects a random susceptible person per unit time , then the expected number of new cases in a time period of $\\Delta t$ is $SI \\times \\beta \\Delta t$. This leads to a decrease in the number of susceptible people:\n",
    "\n",
    "$$ \\Delta S = -SI \\times \\beta \\Delta t$$\n",
    "\n",
    "In the mean time, we expect that some of the infective people will recover from the disease (it could be the work of their immune systems or medical intervention). We similarly introduce the **recovery rate** $\\gamma$ as the probablity of recovery in unit time for each patient. During the interal $\\Delta t$, a random infective person has a probability of $\\gamma \\Delta t$ to recover. This causes an increase by $I \\times \\gamma \\Delta t$ in the size of the recovered group, so\n",
    "\n",
    "$$ \\Delta R = I \\times \\gamma \\Delta t $$\n",
    "\n",
    "For the infective group, every now and then, there are some new victims from the susceptible group getting infected, causing a rise in the number of infective people. However, a fraction of the group is recovered and removed, causing a decrease in the group size. Put these together, we have the change in the size of infective group:\n",
    "\n",
    "$$ \\Delta I = SI \\times \\beta \\Delta t - I \\times \\gamma \\Delta t$$\n",
    "\n",
    "The relations between $S$, $I$ and $R$ can be symbollically represented by a flowchart:\n",
    "\n",
    "$$ S \\xrightarrow{\\beta SI} I \\xrightarrow{\\gamma I} R$$\n",
    "\n",
    "If we take the limit of $\\Delta t \\to 0$, then the difference equations above can be written as differential equations:\n",
    "\n",
    "$$\\color{blue}{\\begin{aligned}\n",
    "\\frac{\\mathrm{d} S}{\\mathrm{d} t} & = -\\beta SI\\\\\n",
    "\\frac{\\mathrm{d} I}{\\mathrm{d} t} & = \\beta SI - \\gamma I\\\\\n",
    "\\frac{\\mathrm{d} R}{\\mathrm{d} t} & = \\gamma I\\\\\n",
    "\\end{aligned}}$$\n",
    "\n",
    "The system of equations formed by these three first-order differential equations lies at the core of the SIR model.\n",
    "\n",
    "There is no simple analytical solution to this system of equations for any given initial conditions. We will use numerical solutions later to explore how infectious diseases spread in the SIR model."
   ]
  },
  {
   "cell_type": "markdown",
   "id": "0edacce3",
   "metadata": {},
   "source": [
    "## Simulation of the SIR model\n",
    "\n",
    "Let's imagine a situation where a new kind of disease suddenly appears, so for the time being only very few people are infected, the number of recovered people is practically zero, while nearly the entire population is the susceptible group.\n",
    "\n",
    "We simulate the spread of this disease by setting $I_0$ to be a small number $\\epsilon$, $R_0 = 0$, then $S_0 = N- \\epsilon$ where $N$ is the total number of the community. The spread of the disease is then simulated for different values of $\\beta$ and $\\gamma$.\n",
    "\n",
    "By spirit of Euler method, we can rearrange the differential equations to construct a set of difference equations for the computer to work with. With the size of each group at time $t$, their sizes at time $t+\\Delta t$ are given by:\n",
    "\n",
    "$$\\color{blue}{\\begin{aligned}\n",
    "S[t+\\Delta t] & = S[t] -\\beta S[t]I[t]\\Delta t\\\\\n",
    "I[t+\\Delta t] & = I[t] + \\beta S[t]I[t]\\Delta t - \\gamma I[t]\\Delta t\\\\\n",
    "R[t+\\Delta t] & = R[t] + \\gamma I[t]\\Delta t\\\\\n",
    "\\end{aligned}}$$\n",
    "\n",
    "You are invited to read through the codes, and see how the Euler method is implemented."
   ]
  },
  {
   "cell_type": "code",
   "execution_count": 1,
   "id": "3b1583b6",
   "metadata": {},
   "outputs": [],
   "source": [
    "# import libraries for computation and graph plotting\n",
    "import matplotlib.pyplot as plt\n",
    "import numpy as np"
   ]
  },
  {
   "cell_type": "code",
   "execution_count": 2,
   "id": "95b9672a",
   "metadata": {},
   "outputs": [],
   "source": [
    "def SIR_model(init_values, t, beta, gamma):\n",
    "    # initialising the population size for each group\n",
    "    S = np.zeros_like(t)\n",
    "    I = np.zeros_like(t)\n",
    "    R = np.zeros_like(t)\n",
    "    \n",
    "    # set up initial conditions\n",
    "    S[0], I[0], R[0] = init_values\n",
    "    N = sum(init_values)\n",
    "    \n",
    "    # use the three SIR equations to compute values of S, I, and R one time step after another\n",
    "    for i in range(1, len(t)):\n",
    "        if I[i-1] + (beta * S[i-1] * I[i-1] - gamma * I[i-1]) * step > N:\n",
    "            # in case beta is too large to cause overflow\n",
    "            I[i] = N\n",
    "            S[i] = 0\n",
    "        else:\n",
    "            # reasonable beta: SIR equations at work\n",
    "            S[i] = S[i-1] - beta * S[i-1] * I[i-1] * step\n",
    "            I[i] = I[i-1] + (beta * S[i-1] * I[i-1] - gamma * I[i-1]) * step\n",
    "        R[i] = R[i-1] + gamma * I[i-1] * step\n",
    "        \n",
    "    # return outputs as three numpy arrays\n",
    "    return S, I, R"
   ]
  },
  {
   "cell_type": "code",
   "execution_count": 3,
   "id": "67b92571",
   "metadata": {},
   "outputs": [],
   "source": [
    "def plot_SIR(init_values, t, beta, gamma):\n",
    "    # compute the S, I, R values\n",
    "    S, I, R = SIR_model(init_values, t, beta, gamma)\n",
    "    \n",
    "    # plotting the SIR curves\n",
    "    plt.plot(t, S, color = 'blue', label = 'Susceptible')\n",
    "    plt.plot(t, I, color = 'red', label = 'Infective')\n",
    "    plt.plot(t, R, color = 'green', label = 'Recovered')\n",
    "    plt.rcParams[\"figure.figsize\"] = (10, 6)\n",
    "    plt.legend()\n",
    "    plt.xlabel('Time')\n",
    "    plt.ylabel('Population Size')\n",
    "    plt.show()"
   ]
  },
  {
   "cell_type": "markdown",
   "id": "a916ecb5",
   "metadata": {},
   "source": [
    "All set up, ready to go! The following code block produces a plot for one specific choice of $\\beta$ and $\\gamma$. You can change the parameters as you like, and check out what the consequences are!"
   ]
  },
  {
   "cell_type": "code",
   "execution_count": 4,
   "id": "8e21d01a",
   "metadata": {},
   "outputs": [
    {
     "data": {
      "image/png": "[encoded data removed]",
      "text/plain": [
       "<Figure size 432x288 with 1 Axes>"
      ]
     },
     "metadata": {
      "needs_background": "light"
     },
     "output_type": "display_data"
    }
   ],
   "source": [
    "# set up simulation time\n",
    "tmax = 30\n",
    "step = 0.01\n",
    "t = np.arange(0, tmax, step)\n",
    "\n",
    "# set up initial values for SIR model\n",
    "init_values = [990, 10, 0]     # S0, I0, R_0\n",
    "beta = 0.001\n",
    "gamma = 0.2\n",
    "\n",
    "# plot predictions from the SIR equations\n",
    "plot_SIR(init_values, t, beta, gamma)"
   ]
  },
  {
   "cell_type": "markdown",
   "id": "1317602a",
   "metadata": {},
   "source": [
    "## The reduced model\n",
    "\n",
    "The simulation of the SIR model can actually be done in a more elegant way.\n",
    "\n",
    "Let's assume the size of the entire population remains unchanged, i.e., $N = S + I + R = \\text{constant}$. Introducing dimensionless parameters:\n",
    "\n",
    "$$ \\hat{S} = \\frac{S}{N} \\qquad \\hat{I} = \\frac{I}{N} \\qquad \\hat{R} = \\frac{R}{N} \\qquad \\tau = \\gamma t$$\n",
    "\n",
    "where $\\hat{S}$, $\\hat{I}$ and $\\hat{R}$ can be thought as the fraction of each group in the entire population, and $\\tau$ is the reduced time. The SIR equations can be rewritten as:\n",
    "\n",
    "$$\\color{blue}{\\begin{aligned}\n",
    "\\frac{\\mathrm{d} \\hat{S}}{\\mathrm{d} \\tau} & = - \\mathcal{R}_0 \\hat{S}\\hat{I}\\\\\n",
    "\\frac{\\mathrm{d} \\hat{I}}{\\mathrm{d} \\tau} & = \\mathcal{R}_0 \\hat{S}\\hat{I} - \\hat{I} \\\\\n",
    "\\frac{\\mathrm{d} \\hat{R}}{\\mathrm{d} \\tau} & = \\hat{I} \\\\\n",
    "\\end{aligned}}$$\n",
    "\n",
    "where $\\mathcal{R}_0 \\equiv \\frac{\\beta N}{\\gamma}$. Here we can see the behaviour of the SIR equations actually depends on $\\mathcal{R}_0$ only. The parameter $\\mathcal{R}_0$ is usally called the **basic reproduction ratio**. We will see its intepretation very soon.\n",
    "\n",
    "By the way, it is an aweful choice of notation of $\\mathcal{R}_0$  to stand for the basic reproduction ratio. Do not confuse it with the initial number of recovered people $R_0$. In this article, I use squiggle and regular fonts to distinguish the two. But the notation $\\mathcal{R}_0$ has now become standard norm in the mainstream literature.\n",
    "\n",
    "The constraint that the size of entire population is fixed becomes:\n",
    "\n",
    "$$\\hat{S} + \\hat{I}+ \\hat{R} = 1$$"
   ]
  },
  {
   "cell_type": "markdown",
   "id": "65668438",
   "metadata": {},
   "source": [
    "#### Implementation of the reduced model\n",
    "\n",
    "Based on the codes we had before, we can easily come up with the simulation for the reduced model.\n",
    "\n",
    "You can also play with a web-based SIR simulator via [[https://faradars.org/ev/sir-simulator?lang=en]](https://faradars.org/ev/sir-simulator?lang=en)."
   ]
  },
  {
   "cell_type": "code",
   "execution_count": 5,
   "id": "0e769c57",
   "metadata": {},
   "outputs": [],
   "source": [
    "def reduced_model(init_values, t, r):\n",
    "    # SIR model in terms of three differential equations\n",
    "    S = np.zeros_like(t)\n",
    "    I = np.zeros_like(t)\n",
    "    R = np.zeros_like(t)\n",
    "    \n",
    "    S[0], I[0], R[0] = init_values\n",
    "    \n",
    "    for i in range(1, len(t)):\n",
    "        S[i] = S[i-1] - r * S[i-1] * I[i-1] * step\n",
    "        I[i] = I[i-1] + (r * S[i-1] * I[i-1] - I[i-1]) * step\n",
    "        R[i] = R[i-1] + I[i-1] * step\n",
    "    return S, I, R"
   ]
  },
  {
   "cell_type": "code",
   "execution_count": 6,
   "id": "5b9790ea",
   "metadata": {},
   "outputs": [],
   "source": [
    "def plot_reduced(init_values, t, r):\n",
    "    # plot the variation in time of the proportions of S/I/R groups \n",
    "    S, I, R = reduced_model(init_values, t, r)\n",
    "    \n",
    "    plt.plot(t, S, color = 'blue', label = 'Susceptible')\n",
    "    plt.plot(t, I, color = 'red', label = 'Infective')\n",
    "    plt.plot(t, R, color = 'green', label = 'Recovered')\n",
    "    plt.rcParams[\"figure.figsize\"] = (10, 6)\n",
    "    plt.legend()\n",
    "    plt.xlabel('Time')\n",
    "    plt.ylabel('Population Size')\n",
    "    plt.show()"
   ]
  },
  {
   "cell_type": "code",
   "execution_count": 7,
   "id": "5c62b474",
   "metadata": {},
   "outputs": [
    {
     "data": {
      "image/png": "[encoded data removed]",
      "text/plain": [
       "<Figure size 720x432 with 1 Axes>"
      ]
     },
     "metadata": {
      "needs_background": "light"
     },
     "output_type": "display_data"
    }
   ],
   "source": [
    "# set up simulation time\n",
    "tmax = 30\n",
    "step = 0.01\n",
    "t = np.arange(0, tmax, step)\n",
    "\n",
    "# set up initial values for SIR model\n",
    "init_values = [0.995, 0.005, 0]     # S0, I0, R_0\n",
    "r = 2\n",
    "\n",
    "# plot predictions from the SIR equations\n",
    "plot_reduced(init_values, t, r)"
   ]
  },
  {
   "cell_type": "markdown",
   "id": "2ec6119c",
   "metadata": {},
   "source": [
    "### Discussions\n",
    "\n",
    "The results of the simulations for a set of different values of $\\mathcal{R}_0$ are summarised below:\n",
    "\n",
    "![]()\n",
    "\n",
    "As you can see, the magnitude $\\mathcal{R}_0$ determines whethere the disease becomes an epidemics and spreads to a lot of people in a given time. Larger value for $\\mathcal{R}_0$ indicates that the disease is able to spread faster and wider.\n",
    "\n",
    "When $\\mathcal{R}_0 < 1$，the speed and the scale at which the disease spreads are limited. Most infective recover before the disease has time to spread. Most people do not even have a chance to be infected, and the disease will even without human intervention.\n",
    "\n",
    "However, if $\\mathcal{R}_0 > 1$, the spread of the disease zooms like a rock. For instance, for $\\mathcal{R}_0 = 1.2$, It seems that one person can infect just a little more than one person, and the number of infective at any time does not seem to be many, but in the end nearly $30\\%$ of the entire population will have been affected by this infectious disease. When it increases slightly to $\\mathcal{R}_0 = 1.5$, the proportion of the population affected by the epidemic doubles to around $60\\%$!\n",
    "\n",
    "\n",
    "When it reaches $\\mathcal{R}_0 = 3$, more than $90\\%$ of the population will get the disease once after the epidemic breaks out. At the peak of the outbreak, nearly 30% of the population are infected, quite a terrifying scale of transmission.\n",
    "\n",
    "When $\\mathcal{R}_0 = 5$ and $\\mathcal{R}_0 \\approx 10$ (an estimated value for the Omicron Covid variant)，if the spread of the disease does follow the SIR equations, we can see how terrible this would be. In the early stages of the outbreak, the number of cases increases very rapidly. At its peak, half or more of the population are infected. In the end, almost everyone has been infected."
   ]
  },
  {
   "cell_type": "code",
   "execution_count": null,
   "id": "12cdec18",
   "metadata": {},
   "outputs": [],
   "source": []
  }
 ],
 "metadata": {
  "kernelspec": {
   "display_name": "Python 3",
   "language": "python",
   "name": "python3"
  },
  "language_info": {
   "codemirror_mode": {
    "name": "ipython",
    "version": 3
   },
   "file_extension": ".py",
   "mimetype": "text/x-python",
   "name": "python",
   "nbconvert_exporter": "python",
   "pygments_lexer": "ipython3",
   "version": "3.9.5"
  }
 },
 "nbformat": 4,
 "nbformat_minor": 5
}
