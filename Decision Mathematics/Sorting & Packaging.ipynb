{
 "cells": [
  {
   "cell_type": "markdown",
   "id": "c5799551",
   "metadata": {},
   "source": [
    "## What This Notebook is about?\n",
    "\n",
    "This notebook intends to implement the several algorithms required by the A-Level Decision Mathematics syllabus, and the codes are meant to produce outputs that comply with the A-Level marking schemes."
   ]
  },
  {
   "cell_type": "markdown",
   "id": "0c3f655f",
   "metadata": {},
   "source": [
    "## Implementation of Bubble Sort & Quick Sort "
   ]
  },
  {
   "cell_type": "code",
   "execution_count": 1,
   "id": "4f676d8d",
   "metadata": {},
   "outputs": [],
   "source": [
    "def bubble(l, ascend=True, verbose=True):\n",
    "    '''\n",
    "    bubble sort the list \"l\" into increasing or descreasing order\n",
    "    default setting: \n",
    "        ascend (True/False): sort into increasing order or decreasing order\n",
    "        verbose (True/False): print out resulting list after each pass\n",
    "    '''\n",
    "\n",
    "    if len(l) > 1:\n",
    "        a = list(l)\n",
    "        for i in range(1, len(a)):\n",
    "            swapped = False\n",
    "            if ascend:\n",
    "                for j in range(len(a)-i):\n",
    "                    if a[j] > a[j+1]:\n",
    "                        a[j], a[j+1] = a[j+1], a[j]\n",
    "                        swapped = True\n",
    "            else:\n",
    "                for j in range(len(a)-i):\n",
    "                    if a[j] < a[j+1]:\n",
    "                        a[j], a[j+1] = a[j+1], a[j]\n",
    "                        swapped = True\n",
    "            if verbose:\n",
    "                print(\"Pass {}: {}\".format(i, a))\n",
    "            \n",
    "            if not swapped:\n",
    "                if verbose:\n",
    "                    print(\"No more swaps. Sort complete.\")\n",
    "                return a\n",
    "    return a"
   ]
  },
  {
   "cell_type": "code",
   "execution_count": 2,
   "id": "bbb31a26",
   "metadata": {},
   "outputs": [],
   "source": [
    "def quick(l, ascend=True, verbose=True):\n",
    "    '''\n",
    "    quick sort the list \"l\" into increasing or descreasing order\n",
    "    default setting: \n",
    "        ascend (True/False): sort into increasing order or decreasing order\n",
    "        verbose (True/False): print out resulting list and the pivots used after each pass\n",
    "    '''\n",
    "\n",
    "    if len(l) > 0:\n",
    "        count = 0\n",
    "        a = l\n",
    "        chunks = [l]\n",
    "        pivots = []\n",
    "        \n",
    "        chunk = 0\n",
    "        while(True):\n",
    "            count += 1\n",
    "            new_pivots = []\n",
    "            temp_chunks = []\n",
    "            \n",
    "            if verbose:\n",
    "                print(\"Pass {}: {}\".format(count, a), end = ' ')\n",
    "            for chunk in chunks:\n",
    "                pivot = chunk[int(len(chunk)/2)]\n",
    "                if pivot not in pivots:\n",
    "                    new_pivots.append(pivot)\n",
    "                    pivots.append(pivot)\n",
    "                \n",
    "                left = [ item for item in chunk if item < pivot ]\n",
    "                right = [ item for item in chunk if item > pivot ]\n",
    "                \n",
    "                if not ascend:\n",
    "                    left, right = right, left\n",
    "                \n",
    "                if len(left) != 0:\n",
    "                    temp_chunks += [left]\n",
    "                temp_chunks += [[pivot]]\n",
    "                if len(right) != 0:\n",
    "                    temp_chunks += [right]\n",
    "            \n",
    "            new_pivots = [str(p) for p in new_pivots]\n",
    "            if verbose:\n",
    "                print(\"\\t(Pivot: {})\".format(\", \".join(new_pivots)))\n",
    "            \n",
    "            chunks = temp_chunks\n",
    "            a = []\n",
    "            for chunk in chunks:\n",
    "                a += chunk\n",
    "            \n",
    "            if(len(pivots) == len(l)):\n",
    "                if verbose:\n",
    "                    print(\"All items taken as pivots. Sort complete.\")\n",
    "                return a    \n",
    "    return chunks"
   ]
  },
  {
   "cell_type": "markdown",
   "id": "56ab7329",
   "metadata": {},
   "source": [
    "## Implementation of First-fit & First-fit Decreasing Algorithm"
   ]
  },
  {
   "cell_type": "code",
   "execution_count": 15,
   "id": "bafdf8b0",
   "metadata": {},
   "outputs": [],
   "source": [
    "def first_fit(l, bin_size, verbose = False):\n",
    "    '''\n",
    "    apply first fit algorithm to pack a list of items to a number of bins\n",
    "    \n",
    "    parameters:\n",
    "    l          a list of numbers representing size of each item\n",
    "    bin_size   size of each bin\n",
    "    verbose    whether one needs to print out explicitly the arrangement for each bin\n",
    "    '''\n",
    "    \n",
    "    bins = []\n",
    "    for item in l:\n",
    "        packed = False\n",
    "        if len(bins) == 0:\n",
    "            bins.append([])\n",
    "        for b in bins:\n",
    "            if not packed and item + sum(b) <= bin_size:\n",
    "                b.append(item)\n",
    "                packed = True\n",
    "        if not packed:\n",
    "            bins.append([item])\n",
    "    if verbose:\n",
    "        for idx, b in enumerate(bins):\n",
    "            print(\"Bin \", str(idx+1), \": \", b)  \n",
    "    return bins"
   ]
  },
  {
   "cell_type": "code",
   "execution_count": 16,
   "id": "bd9b6bd6",
   "metadata": {},
   "outputs": [],
   "source": [
    "def first_fit_decreasing(l, bin_size, verbose = False):\n",
    "    '''\n",
    "    apply first fit decreasing algorithm to pack a list of items to a number of bins\n",
    "    \n",
    "    parameters:\n",
    "    l          a list of numbers representing size of each item\n",
    "    bin_size   size of each bin\n",
    "    verbose    whether one needs to print out explicitly the arrangement for each bin\n",
    "    '''\n",
    "    \n",
    "    bins = []\n",
    "    l = quick(l, ascend=False, verbose=False)\n",
    "    bins = first_fit(l, bin_size, verbose = False)\n",
    "    if verbose:\n",
    "        for idx, b in enumerate(bins):\n",
    "            print(\"Bin \", str(idx+1), \": \", b)  \n",
    "    return bins"
   ]
  },
  {
   "cell_type": "markdown",
   "id": "11ff7758",
   "metadata": {},
   "source": [
    "## Testing"
   ]
  },
  {
   "cell_type": "code",
   "execution_count": 237,
   "id": "c3b33f39",
   "metadata": {},
   "outputs": [],
   "source": [
    "a = [27, 11, 13, 14, 31, 5, 8, 21, 18, 23, 37]"
   ]
  },
  {
   "cell_type": "code",
   "execution_count": 238,
   "id": "4226d4c9",
   "metadata": {},
   "outputs": [
    {
     "name": "stdout",
     "output_type": "stream",
     "text": [
      "Pass 1: [11, 13, 14, 27, 5, 8, 21, 18, 23, 31, 37]\n",
      "Pass 2: [11, 13, 14, 5, 8, 21, 18, 23, 27, 31, 37]\n",
      "Pass 3: [11, 13, 5, 8, 14, 18, 21, 23, 27, 31, 37]\n",
      "Pass 4: [11, 5, 8, 13, 14, 18, 21, 23, 27, 31, 37]\n",
      "Pass 5: [5, 8, 11, 13, 14, 18, 21, 23, 27, 31, 37]\n",
      "Pass 6: [5, 8, 11, 13, 14, 18, 21, 23, 27, 31, 37]\n",
      "No more swaps. Sort complete.\n"
     ]
    },
    {
     "data": {
      "text/plain": [
       "[5, 8, 11, 13, 14, 18, 21, 23, 27, 31, 37]"
      ]
     },
     "execution_count": 238,
     "metadata": {},
     "output_type": "execute_result"
    }
   ],
   "source": [
    "bubble(a, ascend=True)"
   ]
  },
  {
   "cell_type": "code",
   "execution_count": 239,
   "id": "c55edce6",
   "metadata": {},
   "outputs": [
    {
     "name": "stdout",
     "output_type": "stream",
     "text": [
      "Pass 1: [27, 11, 13, 14, 31, 5, 8, 21, 18, 23, 37] \t(Pivot: 5)\n",
      "Pass 2: [5, 27, 11, 13, 14, 31, 8, 21, 18, 23, 37] \t(Pivot: 8)\n",
      "Pass 3: [5, 8, 27, 11, 13, 14, 31, 21, 18, 23, 37] \t(Pivot: 31)\n",
      "Pass 4: [5, 8, 27, 11, 13, 14, 21, 18, 23, 31, 37] \t(Pivot: 14, 37)\n",
      "Pass 5: [5, 8, 11, 13, 14, 27, 21, 18, 23, 31, 37] \t(Pivot: 13, 18)\n",
      "Pass 6: [5, 8, 11, 13, 14, 18, 27, 21, 23, 31, 37] \t(Pivot: 11, 21)\n",
      "Pass 7: [5, 8, 11, 13, 14, 18, 21, 27, 23, 31, 37] \t(Pivot: 23)\n",
      "Pass 8: [5, 8, 11, 13, 14, 18, 21, 23, 27, 31, 37] \t(Pivot: 27)\n",
      "All items taken as pivots. Sort complete.\n"
     ]
    },
    {
     "data": {
      "text/plain": [
       "[5, 8, 11, 13, 14, 18, 21, 23, 27, 31, 37]"
      ]
     },
     "execution_count": 239,
     "metadata": {},
     "output_type": "execute_result"
    }
   ],
   "source": [
    "quick(a, ascend=True)"
   ]
  },
  {
   "cell_type": "code",
   "execution_count": 240,
   "id": "a02dac08",
   "metadata": {},
   "outputs": [],
   "source": [
    "b = [17, 33, 14, 25, 23, 28, 21, 13, 9, 6, 10]"
   ]
  },
  {
   "cell_type": "code",
   "execution_count": 241,
   "id": "15eaa4b8",
   "metadata": {},
   "outputs": [
    {
     "name": "stdout",
     "output_type": "stream",
     "text": [
      "Pass 1: [33, 17, 25, 23, 28, 21, 14, 13, 9, 10, 6]\n",
      "Pass 2: [33, 25, 23, 28, 21, 17, 14, 13, 10, 9, 6]\n",
      "Pass 3: [33, 25, 28, 23, 21, 17, 14, 13, 10, 9, 6]\n",
      "Pass 4: [33, 28, 25, 23, 21, 17, 14, 13, 10, 9, 6]\n",
      "Pass 5: [33, 28, 25, 23, 21, 17, 14, 13, 10, 9, 6]\n",
      "No more swaps. Sort complete.\n"
     ]
    },
    {
     "data": {
      "text/plain": [
       "[33, 28, 25, 23, 21, 17, 14, 13, 10, 9, 6]"
      ]
     },
     "execution_count": 241,
     "metadata": {},
     "output_type": "execute_result"
    }
   ],
   "source": [
    "bubble(b, ascend=False)"
   ]
  },
  {
   "cell_type": "code",
   "execution_count": 242,
   "id": "0ff5b3cc",
   "metadata": {},
   "outputs": [
    {
     "name": "stdout",
     "output_type": "stream",
     "text": [
      "Pass 1: [17, 33, 14, 25, 23, 28, 21, 13, 9, 6, 10] \t(Pivot: 28)\n",
      "Pass 2: [33, 28, 17, 14, 25, 23, 21, 13, 9, 6, 10] \t(Pivot: 33, 21)\n",
      "Pass 3: [33, 28, 25, 23, 21, 17, 14, 13, 9, 6, 10] \t(Pivot: 23, 9)\n",
      "Pass 4: [33, 28, 25, 23, 21, 17, 14, 13, 10, 9, 6] \t(Pivot: 25, 13, 6)\n",
      "Pass 5: [33, 28, 25, 23, 21, 17, 14, 13, 10, 9, 6] \t(Pivot: 14, 10)\n",
      "Pass 6: [33, 28, 25, 23, 21, 17, 14, 13, 10, 9, 6] \t(Pivot: 17)\n",
      "All items taken as pivots. Sort complete.\n"
     ]
    },
    {
     "data": {
      "text/plain": [
       "[33, 28, 25, 23, 21, 17, 14, 13, 10, 9, 6]"
      ]
     },
     "execution_count": 242,
     "metadata": {},
     "output_type": "execute_result"
    }
   ],
   "source": [
    "quick(b, ascend=False)"
   ]
  },
  {
   "cell_type": "code",
   "execution_count": 243,
   "id": "96e7528a",
   "metadata": {},
   "outputs": [
    {
     "data": {
      "text/plain": [
       "[27, 11, 13, 14, 31, 5, 8, 21, 18, 23, 37]"
      ]
     },
     "execution_count": 243,
     "metadata": {},
     "output_type": "execute_result"
    }
   ],
   "source": [
    "a"
   ]
  },
  {
   "cell_type": "code",
   "execution_count": 244,
   "id": "d7e4df25",
   "metadata": {},
   "outputs": [
    {
     "name": "stdout",
     "output_type": "stream",
     "text": [
      "Bin  1 :  [27, 11, 13, 14, 5, 8]\n",
      "Bin  2 :  [31, 21, 18]\n",
      "Bin  3 :  [23, 37]\n"
     ]
    },
    {
     "data": {
      "text/plain": [
       "[[27, 11, 13, 14, 5, 8], [31, 21, 18], [23, 37]]"
      ]
     },
     "execution_count": 244,
     "metadata": {},
     "output_type": "execute_result"
    }
   ],
   "source": [
    "first_fit(a, bin_size=80, verbose=True)"
   ]
  },
  {
   "cell_type": "code",
   "execution_count": 245,
   "id": "5c81ff54",
   "metadata": {},
   "outputs": [
    {
     "name": "stdout",
     "output_type": "stream",
     "text": [
      "Bin  1 :  [37, 31, 11]\n",
      "Bin  2 :  [27, 23, 21, 8]\n",
      "Bin  3 :  [18, 14, 13, 5]\n"
     ]
    },
    {
     "data": {
      "text/plain": [
       "[[37, 31, 11], [27, 23, 21, 8], [18, 14, 13, 5]]"
      ]
     },
     "execution_count": 245,
     "metadata": {},
     "output_type": "execute_result"
    }
   ],
   "source": [
    "first_fit_decreasing(a, bin_size=80, verbose=True)"
   ]
  },
  {
   "cell_type": "code",
   "execution_count": 246,
   "id": "5e080494",
   "metadata": {},
   "outputs": [
    {
     "name": "stdout",
     "output_type": "stream",
     "text": [
      "Bin  1 :  [27, 11, 13]\n",
      "Bin  2 :  [14, 31, 5]\n",
      "Bin  3 :  [8, 21, 18]\n",
      "Bin  4 :  [23]\n",
      "Bin  5 :  [37]\n"
     ]
    },
    {
     "data": {
      "text/plain": [
       "[[27, 11, 13], [14, 31, 5], [8, 21, 18], [23], [37]]"
      ]
     },
     "execution_count": 246,
     "metadata": {},
     "output_type": "execute_result"
    }
   ],
   "source": [
    "first_fit(a, bin_size=55, verbose=True)"
   ]
  },
  {
   "cell_type": "code",
   "execution_count": 247,
   "id": "1009affb",
   "metadata": {},
   "outputs": [
    {
     "name": "stdout",
     "output_type": "stream",
     "text": [
      "Bin  1 :  [37, 18]\n",
      "Bin  2 :  [31, 23]\n",
      "Bin  3 :  [27, 21, 5]\n",
      "Bin  4 :  [14, 13, 11, 8]\n"
     ]
    },
    {
     "data": {
      "text/plain": [
       "[[37, 18], [31, 23], [27, 21, 5], [14, 13, 11, 8]]"
      ]
     },
     "execution_count": 247,
     "metadata": {},
     "output_type": "execute_result"
    }
   ],
   "source": [
    "first_fit_decreasing(a, bin_size=55, verbose=True)"
   ]
  },
  {
   "cell_type": "code",
   "execution_count": null,
   "id": "ff5af390",
   "metadata": {},
   "outputs": [],
   "source": []
  }
 ],
 "metadata": {
  "kernelspec": {
   "display_name": "Python 3",
   "language": "python",
   "name": "python3"
  },
  "language_info": {
   "codemirror_mode": {
    "name": "ipython",
    "version": 3
   },
   "file_extension": ".py",
   "mimetype": "text/x-python",
   "name": "python",
   "nbconvert_exporter": "python",
   "pygments_lexer": "ipython3",
   "version": "3.9.5"
  }
 },
 "nbformat": 4,
 "nbformat_minor": 5
}
