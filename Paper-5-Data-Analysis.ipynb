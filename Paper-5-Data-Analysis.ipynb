{
 "cells": [
  {
   "cell_type": "markdown",
   "id": "dd9e8546",
   "metadata": {},
   "source": [
    "## Introduction\n",
    "\n",
    "This notebook aims at providing a convenient toolbox to plot data analysis graphs for CIE A-Level Physics Paper 5 questions.\n"
   ]
  },
  {
   "cell_type": "markdown",
   "id": "1ee01e72",
   "metadata": {},
   "source": [
    "## Initialisation\n",
    "\n",
    "You only need to massage this section for everything you need for your plot.\n",
    "\n",
    "Here you are expected to provide the program with the dataset, which includes the $x$- and $y$-coordinates for the data points together with their uncertainties. Also, you should specify the size and the scales of the canvas on which the graph is plotted."
   ]
  },
  {
   "cell_type": "code",
   "execution_count": 1,
   "id": "acae1ba9",
   "metadata": {},
   "outputs": [],
   "source": [
    "# import libraries\n",
    "import numpy as np\n",
    "import matplotlib.pyplot as plt\n",
    "\n",
    "plt.rcParams[\"figure.figsize\"] = (8,12)"
   ]
  },
  {
   "cell_type": "code",
   "execution_count": 2,
   "id": "607c32cc",
   "metadata": {},
   "outputs": [],
   "source": [
    "# define datasets\n",
    "# if the values to be plotted have already been computed, use the following code to initialize\n",
    "points = [\n",
    "    # format: x_coordinate, y_coordiante, uncertainty\n",
    "    (1.25, 4440, 100),\n",
    "    (2.55, 5410, 150),\n",
    "    (3.90, 6250, 200),\n",
    "    (5.25, 7140, 260),\n",
    "    (6.55, 8000, 320),\n",
    "    (7.80, 8700, 380)\n",
    "]\n",
    "\n",
    "# define canvas size\n",
    "x_lower, x_upper, x_sep = 1.0, 8.0, 1.0\n",
    "y_lower, y_upper, y_sep = 4000, 9500, 500\n",
    "\n",
    "canvas = (x_lower, x_upper, x_sep, y_lower, y_upper, y_sep)"
   ]
  },
  {
   "cell_type": "code",
   "execution_count": 3,
   "id": "08a88604",
   "metadata": {},
   "outputs": [],
   "source": [
    "# if the values to be plotted have not been calculated\n",
    "# initialize with the raw data points\n",
    "# the codes in the next few blocks can compute the values needed\n",
    "\n",
    "raw_points = [\n",
    "    # format: x_coordinate, y_coordiante, uncertainty\n",
    "    (1.25, 225, 5),\n",
    "    (2.55, 185, 5),\n",
    "    (3.90, 160, 5),\n",
    "    (5.25, 140, 5),\n",
    "    (6.55, 125, 5),\n",
    "    (7.80, 115, 5)\n",
    "]"
   ]
  },
  {
   "cell_type": "code",
   "execution_count": 4,
   "id": "d63f56bb",
   "metadata": {},
   "outputs": [],
   "source": [
    "def extract_data_points(points):\n",
    "    x = np.array([point[0] for point in points])\n",
    "    y = np.array([point[1] for point in points])\n",
    "    uncertainties = np.array([point[2] for point in points])\n",
    "    return x, y, uncertainties"
   ]
  },
  {
   "cell_type": "code",
   "execution_count": 5,
   "id": "031f9d89",
   "metadata": {},
   "outputs": [],
   "source": [
    "def convert(raw_points):\n",
    "    raw_x, raw_y, raw_uncertainties = extract_data_points(raw_points)\n",
    "    x = raw_x\n",
    "    y = 1/ (raw_y * 1e-6)\n",
    "    uncertainties = 1.0 * raw_uncertainties / raw_y * y\n",
    "    \n",
    "    return [(x[i], y[i], uncertainties[i]) for i in range(len(raw_points))]"
   ]
  },
  {
   "cell_type": "code",
   "execution_count": 6,
   "id": "da0a9832",
   "metadata": {},
   "outputs": [],
   "source": [
    "# uncomment the following line if need to compute values to plot from raw data\n",
    "# points = convert(raw_points)"
   ]
  },
  {
   "cell_type": "markdown",
   "id": "1c2d4f19",
   "metadata": {},
   "source": [
    "## Best Fit & Worst Acceptable\n",
    "\n",
    "Once these are done, the next couple of code blocks should be able to complete the folloing tasks automatically for you:\n",
    "\n",
    "- plot the data points and the error bars\n",
    "\n",
    "- plot a best fit line based on linear regression\n",
    "\n",
    "- plot a worst acceptable line\n",
    "\n",
    "- calculate the gradient of the best fit and its uncertainty\n",
    "\n",
    "- calculate the $y$-intercept of the best fit and its uncertainty"
   ]
  },
  {
   "cell_type": "code",
   "execution_count": 7,
   "id": "d8199505",
   "metadata": {},
   "outputs": [],
   "source": [
    "def find_best_fit_coeffs(x, y):\n",
    "    # determine best fit line for a set of 2D data points\n",
    "    # coeffiencents are determined using linear regression\n",
    "    x_mean = x.mean()\n",
    "    y_mean = y.mean()\n",
    "    \n",
    "    Sxx = ((x - x_mean)**2).sum()\n",
    "    Syy = ((y - y_mean)**2).sum()\n",
    "    Sxy = ((x - x_mean) * (y - y_mean)).sum()\n",
    "\n",
    "    best_fit_gradient = Sxy/Sxx\n",
    "    best_fit_intercept = y_mean - best_fit_gradient * x_mean\n",
    "    \n",
    "    return best_fit_gradient, best_fit_intercept"
   ]
  },
  {
   "cell_type": "code",
   "execution_count": 8,
   "id": "f0a33bca",
   "metadata": {},
   "outputs": [],
   "source": [
    "def line_equation_by_points(A, B):\n",
    "    # find gradient and intercept of the line connecting two fixed points A and B\n",
    "    # A, B are 2-tuples containing the x- and y-coordinates of the two points\n",
    "    gradient = (B[1]- A[1])/(B[0] - A[0])\n",
    "    intercept = A[1] - gradient * A[0]\n",
    "    return gradient, intercept"
   ]
  },
  {
   "cell_type": "code",
   "execution_count": 9,
   "id": "8411f35e",
   "metadata": {},
   "outputs": [],
   "source": [
    "def find_worst_acceptable_coeffs(x, y, uncertainties):\n",
    "    ## determine the coefficients of the worst acceptable line\n",
    "    \n",
    "    # set initial worst acceptable line\n",
    "    left_index = 0\n",
    "    right_index = len(x)-1\n",
    "    left_end_point = (x[left_index], y[left_index]-uncertainties[left_index])\n",
    "    right_end_point = (x[right_index], y[right_index]+uncertainties[right_index])\n",
    "    worst_fit_gradient, worst_fit_intercept = line_equation_by_points(left_end_point, right_end_point)\n",
    "    \n",
    "    # check that worst acceptable does not go below any error bar\n",
    "    for i in range(1, len(x)-1):\n",
    "        current_x, current_y, current_uncertainty = x[i], y[i], uncertainties[i]\n",
    "        current_y_on_line = worst_fit_gradient * current_x + worst_fit_intercept\n",
    "        if current_y_on_line < current_y - current_uncertainty:\n",
    "            left_index = i\n",
    "            left_end_point = (current_x, current_y - current_uncertainty)\n",
    "            worst_fit_gradient, worst_fit_intercept = line_equation_by_points(left_end_point, right_end_point)\n",
    "    \n",
    "    # check that worst acceptable does not go above any error bar\n",
    "    for i in range(len(points)-2, left_index+1, -1):\n",
    "        current_x, current_y, current_uncertainty = points[i]\n",
    "        current_y_on_line = worst_fit_gradient * current_x + worst_fit_intercept\n",
    "        if current_y_on_line > current_y + current_uncertainty:\n",
    "            right_index = i\n",
    "            right_end_point = (current_x, current_y + current_uncertainty)\n",
    "            worst_fit_gradient, worst_fit_intercept = line_equation_by_points(left_end_point, right_end_point)\n",
    "\n",
    "    return worst_fit_gradient, worst_fit_intercept"
   ]
  },
  {
   "cell_type": "code",
   "execution_count": 10,
   "id": "be08f4c5",
   "metadata": {},
   "outputs": [],
   "source": [
    "def points_on_line(gradient, intercept, x_lower, x_upper):\n",
    "    x_coords = np.linspace(x_lower, x_upper, 5)\n",
    "    y_coords = gradient * x_coords + intercept\n",
    "    return x_coords, y_coords"
   ]
  },
  {
   "cell_type": "markdown",
   "id": "76bae47c",
   "metadata": {},
   "source": [
    "## Ready to Roll!"
   ]
  },
  {
   "cell_type": "code",
   "execution_count": 11,
   "id": "16f0481a",
   "metadata": {},
   "outputs": [],
   "source": [
    "def plot_lines(points, canvas):\n",
    "    # extracting and packing parameters\n",
    "    x, y, uncertainties = extract_data_points(points)\n",
    "    x_lower, x_upper, x_sep, y_lower, y_upper, y_sep = canvas\n",
    "\n",
    "    # calculate coefficients for best fit and worst acceptable\n",
    "    best_fit_gradient, best_fit_intercept = find_best_fit_coeffs(x, y)\n",
    "    worst_fit_gradient, worst_fit_intercept = find_worst_acceptable_coeffs(x, y, uncertainties)\n",
    "    \n",
    "    # compute points on best fit and worst acceptable to plot\n",
    "    best_fit_x, best_fit_y = points_on_line(best_fit_gradient, best_fit_intercept, x_lower, x_upper)\n",
    "    worst_fit_x, worst_fit_y = points_on_line(worst_fit_gradient, worst_fit_intercept, x_lower, x_upper)\n",
    "\n",
    "    # plot everything needed for the exam question\n",
    "    plt.errorbar(x, y, xerr=None, yerr=uncertainties, fmt='x', color='black')\n",
    "    plt.plot(best_fit_x, best_fit_y, label=\"best fit\", color='blue')\n",
    "    plt.plot(worst_fit_x, worst_fit_y, label=\"worst acceptable\", color='green')\n",
    "    \n",
    "    # set graph labels and scales\n",
    "    plt.xlabel(r\"$x$\")\n",
    "    plt.xlabel(r\"$y$\")\n",
    "    plt.xlim(x_lower, x_upper)\n",
    "    plt.ylim(y_lower, y_upper)\n",
    "    plt.legend()\n",
    "    plt.xticks(np.arange(x_lower, x_upper, x_sep))\n",
    "    plt.yticks(np.arange(y_lower, y_upper, y_sep))\n",
    "    plt.grid(linestyle = '--')\n",
    "    \n",
    "    # display the final plot\n",
    "    plt.show()\n",
    "    \n",
    "    # print out results of gradient and y-intercept\n",
    "    print(f\"gradient of best fit    = {best_fit_gradient}\")\n",
    "    print(f\"uncertainty in gradient = {abs(best_fit_gradient - worst_fit_gradient)}\")\n",
    "    print(\"\")\n",
    "    print(f\"y-intercept of best fit    = {best_fit_intercept}\")\n",
    "    print(f\"uncertainty in y-intercept = {abs(best_fit_intercept - worst_fit_intercept)}\")    "
   ]
  },
  {
   "cell_type": "code",
   "execution_count": 12,
   "id": "647c161d",
   "metadata": {},
   "outputs": [
    {
     "data": {
      "image/png": "[encoded data removed]",
      "text/plain": [
       "<Figure size 576x864 with 1 Axes>"
      ]
     },
     "metadata": {
      "needs_background": "light"
     },
     "output_type": "display_data"
    },
    {
     "name": "stdout",
     "output_type": "stream",
     "text": [
      "gradient of best fit    = 650.0411658159065\n",
      "uncertainty in gradient = 73.62295632149801\n",
      "\n",
      "y-intercept of best fit    = 3698.9793622042926\n",
      "uncertainty in y-intercept = 263.5595148760485\n"
     ]
    }
   ],
   "source": [
    "# main program\n",
    "plot_lines(points, canvas)"
   ]
  },
  {
   "cell_type": "code",
   "execution_count": null,
   "id": "c3aa4406",
   "metadata": {},
   "outputs": [],
   "source": []
  },
  {
   "cell_type": "code",
   "execution_count": null,
   "id": "40d0c0c6",
   "metadata": {},
   "outputs": [],
   "source": []
  }
 ],
 "metadata": {
  "kernelspec": {
   "display_name": "Python 3",
   "language": "python",
   "name": "python3"
  },
  "language_info": {
   "codemirror_mode": {
    "name": "ipython",
    "version": 3
   },
   "file_extension": ".py",
   "mimetype": "text/x-python",
   "name": "python",
   "nbconvert_exporter": "python",
   "pygments_lexer": "ipython3",
   "version": "3.9.5"
  }
 },
 "nbformat": 4,
 "nbformat_minor": 5
}
