{
 "cells": [
  {
   "cell_type": "code",
   "execution_count": 1,
   "id": "4d712d13",
   "metadata": {
    "extensions": {
     "jupyter_dashboards": {
      "version": 1,
      "views": {
       "default_view": {
        "hidden": true
       }
      }
     }
    }
   },
   "outputs": [],
   "source": [
    "import sys\n",
    "MAX = sys.maxsize"
   ]
  },
  {
   "cell_type": "code",
   "execution_count": 2,
   "id": "8d3976aa",
   "metadata": {
    "extensions": {
     "jupyter_dashboards": {
      "version": 1,
      "views": {
       "default_view": {
        "hidden": true
       }
      }
     }
    }
   },
   "outputs": [],
   "source": [
    "def pairing(alist):\n",
    "    if len(alist) % 2 == 1:\n",
    "        print('Odd number of items in the list! Impossible to pair!')\n",
    "        return None\n",
    "    if len(alist) == 2:\n",
    "        return [[alist]]\n",
    "    else:\n",
    "        result = []\n",
    "        for i in range(1, len(alist)):\n",
    "            remaining = alist[1:i] + alist[i+1:]\n",
    "            toadd = pairing(remaining)\n",
    "            for j in range(len(toadd)):\n",
    "                result.append([[alist[0], alist[i]]] + toadd[j])\n",
    "        return result"
   ]
  },
  {
   "cell_type": "code",
   "execution_count": 3,
   "id": "a270e094",
   "metadata": {
    "extensions": {
     "jupyter_dashboards": {
      "version": 1,
      "views": {
       "default_view": {
        "hidden": true
       }
      }
     }
    }
   },
   "outputs": [],
   "source": [
    "class Vertex:\n",
    "    def __init__(self, vname, distance=MAX, state=None):\n",
    "        # vname == string object\n",
    "        # name of the vertex\n",
    "        self.vname = vname\n",
    "        # nbrs == dictionary object\n",
    "        # neighours connected to the vertex\n",
    "        # key == name of neighbour vertex, value == weight of edge\n",
    "        self.nbrs = {}\n",
    "        self.dist = distance\n",
    "        self.state = state\n",
    "        self.pv = None\n",
    " \n",
    "    def __str__(self):\n",
    "        return self.vname + ' is connected to: ' + str([x for x in self.nbrs])\n",
    "    \n",
    "    def getName(self):\n",
    "        # get name of the vertex\n",
    "        return self.vname\n",
    "    \n",
    "    def addNBR(self, nbr, weight=0):\n",
    "        # add new neighbouring vertex by name\n",
    "        self.nbrs[nbr] = weight\n",
    "\n",
    "    def getNBRs(self):\n",
    "        # return names of all neighbouring vertices\n",
    "        return self.nbrs.keys()\n",
    "    \n",
    "    def getDegree(self):\n",
    "        return len(self.nbrs)\n",
    "    \n",
    "    def setDistance(self, distance):\n",
    "        self.dist = distance\n",
    "    \n",
    "    def getDistance(self):\n",
    "        return self.dist\n",
    "    \n",
    "    def setState(self, state):\n",
    "        self.state = state\n",
    "    \n",
    "    def getState(self):\n",
    "        return self.state\n",
    "    \n",
    "    def setPV(self, pvname):\n",
    "        # set previous vertex connected to the current vertex\n",
    "        self.pv = pvname\n",
    "    \n",
    "    def getPV(self):\n",
    "        return self.pv\n",
    "    \n",
    "    def getWeight(self, nbr):\n",
    "        if nbr in self.nbrs:\n",
    "            return self.nbrs[nbr]\n",
    "        else:\n",
    "            print('Vertex %s not connected to Vertex %s!' %(nbr, self.vname))\n",
    "            return"
   ]
  },
  {
   "cell_type": "code",
   "execution_count": 4,
   "id": "96d832a3",
   "metadata": {
    "extensions": {
     "jupyter_dashboards": {
      "version": 1,
      "views": {
       "default_view": {
        "hidden": true
       }
      }
     }
    }
   },
   "outputs": [],
   "source": [
    "class Graph:\n",
    "    def __init__(self):\n",
    "        # vlist == dictionary object\n",
    "        # key == name of vertex in the graph\n",
    "        # value == list of neighbours of that vertex\n",
    "        self.vlist = {}\n",
    "        self.vnum = 0\n",
    "    \n",
    "    def __contains__(self, vname):\n",
    "        # check if a vertex is in the graph\n",
    "        return vname in self.vlist\n",
    "    \n",
    "    def __iter__(self):\n",
    "        # iterate over vertices as Vertex Class objects\n",
    "        return iter(self.vlist.values())\n",
    "    \n",
    "    def addVertex(self, vname):\n",
    "        # add a new vertex by name\n",
    "        self.vnum += 1\n",
    "        self.vlist[vname] = Vertex(vname)\n",
    "    \n",
    "    def getVertex(self, vname):\n",
    "        # get an existing vertex by name\n",
    "        if vname in self.vlist:\n",
    "            return self.vlist[vname]\n",
    "        else:\n",
    "            return None\n",
    "        \n",
    "    def numVertex(self):\n",
    "        # return number of vertices in the graph\n",
    "        return self.vnum\n",
    "    \n",
    "    def addEdge(self, V1, V2, weight=0):\n",
    "        # add an edge to the graph\n",
    "        # if any one of the vertices forming the edge does not exist\n",
    "        # add new vertex to the graph before adding the edge\n",
    "        if V1 not in self.vlist:\n",
    "            self.addVertex(V1)\n",
    "        if V2 not in self.vlist:\n",
    "            self.addVertex(V2)\n",
    "        self.vlist[V1].addNBR(self.vlist[V2].getName(), weight)\n",
    "        self.vlist[V2].addNBR(self.vlist[V1].getName(), weight)\n",
    "    \n",
    "    def getWeight(self, fV, tV):\n",
    "        # get weight of an edge by two vertex names\n",
    "        if tV in self.vlist[fV].nbrs:\n",
    "            return self.vlist[fV].nbrs[tV]\n",
    "        else:\n",
    "            print('Oops! ' + fV + ' is not connected to ' + tV)\n",
    "            return None\n",
    "    \n",
    "    def getVertices(self):\n",
    "        # return all vertices in the graph as a list\n",
    "        return self.vlist.keys()\n",
    "        \n",
    "    def getTotalWeight(self):\n",
    "        sum = 0\n",
    "        for vname, v in self.vlist.items():\n",
    "            for w in v.nbrs:\n",
    "                sum += v.nbrs[w]\n",
    "        return sum/2\n",
    "    # note that the graph that we study is not a digraph\n",
    "    # each edge is connected to two vertices, so there is an overcounting by a factor of two\n",
    "    \n",
    "    def reset(self):\n",
    "        for vertex in g:\n",
    "            vertex.setDistance(MAX)\n",
    "            vertex.setPV(None)\n",
    "            vertex.setState(None)\n",
    "    \n",
    "    def dijkstra(self, start, end=None, giveinfo=False):\n",
    "        # use dijkstra algorithm to find the shortest path from start vertex to end vertex\n",
    "        # start vertex must be specified\n",
    "        # if giveinfo is True, the function prints out the detailed information for this path and its length, but returns None\n",
    "        # if giveinfo is False, the function returns a list, consisting of the length of the path and a string describing this path\n",
    "        # when end vertex is not specified, the functions finds the shortest path from start vertex to any other vertex in the graph\n",
    "        # if giveinfo is True, the function prints out the detailed information for the paths and the lengths\n",
    "        # if giveinfo is False, the function prints out nothing and returns nothing\n",
    "        self.reset()\n",
    "        self.getVertex(start).setDistance(0)\n",
    "        self.getVertex(start).setPV(None)\n",
    "        self.getVertex(start).setState('done')\n",
    "        current = start\n",
    "        count = self.numVertex()\n",
    "        while count > 1:\n",
    "            for next_v in self.getVertex(current).getNBRs():\n",
    "                new_dist = self.getVertex(current).getDistance() + self.getVertex(current).getWeight(next_v)\n",
    "                if self.getVertex(next_v).getState() != 'done' and \\\n",
    "                new_dist < self.getVertex(next_v).getDistance():\n",
    "                    self.getVertex(next_v).setDistance(new_dist)\n",
    "                    self.getVertex(next_v).setPV(current)\n",
    "        \n",
    "            minimum = MAX\n",
    "            for vertex in self:\n",
    "                if vertex.getState() != 'done':\n",
    "                    if vertex.getDistance() < minimum:\n",
    "                        minimum = vertex.getDistance()\n",
    "                        next_done = vertex.getName()\n",
    "            current = next_done\n",
    "            self.getVertex(current).setState('done')  \n",
    "            count -= 1 \n",
    "        if end:\n",
    "            path = end\n",
    "            last = self.getVertex(end)\n",
    "            while last.getPV() != None:\n",
    "                path = last.getPV() + path\n",
    "                last = self.getVertex(last.getPV())\n",
    "            if giveinfo:\n",
    "                print(start + ' to ' + end + ':')\n",
    "                print('    Shortest path: ' + path)\n",
    "                print('    Length = ' + str(self.getVertex(end).getDistance()))\n",
    "                return None\n",
    "            return [self.getVertex(end).getDistance(), path]\n",
    "        else:\n",
    "            if giveinfo:\n",
    "                print(start + ' to \\t Path \\t Length')\n",
    "            for vertex in self:\n",
    "                path = vertex.getName()\n",
    "                last = vertex\n",
    "                while last.getPV() != None:\n",
    "                    path = last.getPV() + path\n",
    "                    last = self.getVertex(last.getPV())\n",
    "                if giveinfo:\n",
    "                    print(' ', vertex.getName(), '\\t', path, '\\t', vertex.getDistance())\n",
    "            return None\n",
    "        \n",
    "    def routeInspection(self, begin=None, finish=None):\n",
    "        # use route inspection algorithm to find the minimum cost to traverse all edges on a graph\n",
    "        # if no begin and finish vertex specified, then it is assumed that one must start and finish at the same vertex\n",
    "        # otherwise, the route starts at the begin vertex and ends at the finish vertex\n",
    "        # the route inspection algorithm identifies all vertices with odd degrees\n",
    "        # by pairing up these vertices, we evaluate the cost of repeating the corresponding edges\n",
    "        # the combination with the minimum cost is the optimal solution\n",
    "        # the algorithm then identifies the actual edges that need to be traversed twice and computes the extra cost\n",
    "        # total length of the inspection route is the sum of the graph's total weight and the extra cost of repetition\n",
    "        oddvertices = []\n",
    "        for vertex in self:\n",
    "            if (vertex.getName() == begin or vertex.getName()== finish) and begin != finish:\n",
    "                if vertex.getDegree() % 2 == 0:\n",
    "                    oddvertices.append(vertex.getName())\n",
    "            elif vertex.getDegree() % 2 == 1:\n",
    "                oddvertices.append(vertex.getName())\n",
    "        if len(oddvertices) == 0:\n",
    "            print('This is an Eulerian graph.')\n",
    "            print('The graph is traversable with no need to repeat any edge.')\n",
    "            print('Length of the inspection route is: ', self.getTotalWeight())\n",
    "        else:\n",
    "            print('Odd vertices are:')\n",
    "            print('  ', oddvertices)\n",
    "            print('All possible pairings:')\n",
    "            min_repeat = MAX\n",
    "            best_pairs = []\n",
    "            pairings = pairing(oddvertices)\n",
    "            if len(pairings) == 1:\n",
    "                best_pairs = pairings[0]\n",
    "                start = pairings[0][0][0]\n",
    "                end = pairings[0][0][1]\n",
    "                min_repeat = self.dijkstra(start, end)[0]\n",
    "                print('  ', best_pairs, ' = ', min_repeat)\n",
    "            else:\n",
    "                for pairs in pairings:\n",
    "                    print('  ', pairs, end=' = ')\n",
    "                    repeat = 0\n",
    "                    for pair in pairs:\n",
    "                        start = pair[0]\n",
    "                        end = pair[1]\n",
    "                        extra_length = self.dijkstra(start, end)[0]\n",
    "                        if pair == pairs[-1]:\n",
    "                            print(extra_length, end=' = ')\n",
    "                        else:\n",
    "                            print(extra_length, end=' + ')\n",
    "                        repeat += extra_length\n",
    "                    if repeat < min_repeat:\n",
    "                        min_repeat = repeat\n",
    "                        best_pairs = pairs\n",
    "                    print(repeat)\n",
    "            print('Optimal pairing is:')\n",
    "            print('  ',best_pairs)\n",
    "            print('Edges that need to be traversed twice are:')\n",
    "            print('    ', end='')\n",
    "            for best_pair in best_pairs:\n",
    "                start = best_pair[0]\n",
    "                end = best_pair[1]\n",
    "                path = self.dijkstra(start, end)[1]\n",
    "                for i in range(len(path)-1):\n",
    "                    print(path[i:i+2], end=' ')\n",
    "            print('')\n",
    "            print('Length of inspection route =', end=' ')\n",
    "            print(self.getTotalWeight(), '+', min_repeat, end=' = ')\n",
    "            print(self.getTotalWeight() + min_repeat)"
   ]
  },
  {
   "attachments": {
    "image.png": {
     "image/png": "[encoded data removed]"
    }
   },
   "cell_type": "markdown",
   "id": "5fc6aa14",
   "metadata": {},
   "source": [
    "## Example 1\n",
    "\n",
    "Question from Pearson Edexcel Past Papers\n",
    "\n",
    "WDM11/01 Spring 2020\n",
    "\n",
    "![image.png](attachment:image.png)"
   ]
  },
  {
   "cell_type": "code",
   "execution_count": 5,
   "id": "66f2d684",
   "metadata": {
    "extensions": {
     "jupyter_dashboards": {
      "version": 1,
      "views": {
       "default_view": {
        "hidden": true
       }
      }
     }
    }
   },
   "outputs": [],
   "source": [
    "g = Graph()\n",
    "g.addEdge('A', 'B', 14)\n",
    "g.addEdge('A', 'C', 5)\n",
    "g.addEdge('A', 'E', 8)\n",
    "g.addEdge('B', 'C', 7)\n",
    "g.addEdge('B', 'D', 8)\n",
    "g.addEdge('B', 'G', 31)\n",
    "g.addEdge('C', 'D', 17)\n",
    "g.addEdge('C', 'E', 2)\n",
    "g.addEdge('C', 'F', 21)\n",
    "g.addEdge('C', 'H', 28)\n",
    "g.addEdge('D', 'F', 4)\n",
    "g.addEdge('D', 'G', 19)\n",
    "g.addEdge('E', 'H', 20)\n",
    "g.addEdge('E', 'J', 42)\n",
    "g.addEdge('F', 'G', 11)\n",
    "g.addEdge('F', 'H', 2)\n",
    "g.addEdge('G', 'J', 10)\n",
    "g.addEdge('H', 'J', 20)"
   ]
  },
  {
   "cell_type": "code",
   "execution_count": 6,
   "id": "d8d95ba5",
   "metadata": {
    "extensions": {
     "jupyter_dashboards": {
      "version": 1,
      "views": {
       "default_view": {
        "col": 0,
        "height": 2,
        "row": 10,
        "width": 12
       }
      }
     }
    }
   },
   "outputs": [
    {
     "name": "stdout",
     "output_type": "stream",
     "text": [
      "B to \t Path \t Length\n",
      "  A \t BCA \t 12\n",
      "  B \t B \t 0\n",
      "  C \t BC \t 7\n",
      "  E \t BCE \t 9\n",
      "  D \t BD \t 8\n",
      "  G \t BDFG \t 23\n",
      "  F \t BDF \t 12\n",
      "  H \t BDFH \t 14\n",
      "  J \t BDFGJ \t 33\n"
     ]
    }
   ],
   "source": [
    "g.dijkstra('B', None, True)\n",
    "# find shortest path from vertex B to any other vertex in the graph"
   ]
  },
  {
   "cell_type": "code",
   "execution_count": 7,
   "id": "54ce2cbb",
   "metadata": {
    "extensions": {
     "jupyter_dashboards": {
      "version": 1,
      "views": {
       "default_view": {
        "col": 0,
        "height": 2,
        "row": 12,
        "width": 12
       }
      }
     }
    }
   },
   "outputs": [
    {
     "name": "stdout",
     "output_type": "stream",
     "text": [
      "A to J:\n",
      "    Shortest path: ACBDFGJ\n",
      "    Length = 45\n"
     ]
    }
   ],
   "source": [
    "g.dijkstra('A', 'J', True)\n",
    "# find the shortest path from vertex A to vertex J"
   ]
  },
  {
   "cell_type": "code",
   "execution_count": 8,
   "id": "604361f5",
   "metadata": {
    "extensions": {
     "jupyter_dashboards": {
      "version": 1,
      "views": {
       "default_view": {
        "col": 0,
        "height": 2,
        "row": 14,
        "width": 12
       }
      }
     }
    }
   },
   "outputs": [
    {
     "name": "stdout",
     "output_type": "stream",
     "text": [
      "Odd vertices are:\n",
      "   ['A', 'D', 'H', 'J']\n",
      "All possible pairings:\n",
      "   [['A', 'D'], ['H', 'J']] = 20 + 20 = 40\n",
      "   [['A', 'H'], ['D', 'J']] = 26 + 25 = 51\n",
      "   [['A', 'J'], ['D', 'H']] = 45 + 6 = 51\n",
      "Optimal pairing is:\n",
      "   [['A', 'D'], ['H', 'J']]\n",
      "Edges that need to be traversed twice are:\n",
      "    AC CB BD HJ \n",
      "Length of inspection route = 269.0 + 40 = 309.0\n"
     ]
    }
   ],
   "source": [
    "g.routeInspection('H', 'D')\n",
    "# inspection route starting from vertex H and finishing at vertex D"
   ]
  },
  {
   "cell_type": "code",
   "execution_count": 9,
   "id": "4e169a60",
   "metadata": {
    "extensions": {
     "jupyter_dashboards": {
      "version": 1,
      "views": {
       "default_view": {
        "col": 0,
        "height": 2,
        "row": 16,
        "width": 12
       }
      }
     }
    }
   },
   "outputs": [
    {
     "name": "stdout",
     "output_type": "stream",
     "text": [
      "Odd vertices are:\n",
      "   ['A', 'J']\n",
      "All possible pairings:\n",
      "   [['A', 'J']]  =  45\n",
      "Optimal pairing is:\n",
      "   [['A', 'J']]\n",
      "Edges that need to be traversed twice are:\n",
      "    AC CB BD DF FG GJ \n",
      "Length of inspection route = 269.0 + 45 = 314.0\n"
     ]
    }
   ],
   "source": [
    "g.routeInspection()\n",
    "# inspection route starting and finishing at the same vertex"
   ]
  },
  {
   "cell_type": "code",
   "execution_count": null,
   "id": "945ae6ac",
   "metadata": {
    "extensions": {
     "jupyter_dashboards": {
      "version": 1,
      "views": {
       "default_view": {
        "hidden": true
       }
      }
     }
    }
   },
   "outputs": [],
   "source": []
  }
 ],
 "metadata": {
  "extensions": {
   "jupyter_dashboards": {
    "activeView": "default_view",
    "version": 1,
    "views": {
     "default_view": {
      "cellMargin": 10,
      "defaultCellHeight": 40,
      "maxColumns": 12,
      "name": "active_view",
      "type": "grid"
     }
    }
   }
  },
  "kernelspec": {
   "display_name": "Python 3",
   "language": "python",
   "name": "python3"
  },
  "language_info": {
   "codemirror_mode": {
    "name": "ipython",
    "version": 3
   },
   "file_extension": ".py",
   "mimetype": "text/x-python",
   "name": "python",
   "nbconvert_exporter": "python",
   "pygments_lexer": "ipython3",
   "version": "3.9.5"
  }
 },
 "nbformat": 4,
 "nbformat_minor": 5
}
